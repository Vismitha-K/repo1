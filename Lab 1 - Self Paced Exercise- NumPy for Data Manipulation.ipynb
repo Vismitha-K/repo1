{
 "cells": [
  {
   "cell_type": "markdown",
   "id": "7b9dd9e0",
   "metadata": {},
   "source": [
    "<span style=\"color:black;font-size: 30px; font-family: Arial; font-weight: bold;\"> EDUNET FOUNDATION - Self Paced Exercise Notebook</span>"
   ]
  },
  {
   "cell_type": "markdown",
   "id": "9ba46cb8",
   "metadata": {},
   "source": [
    "<span style=\"color:black;font-size: 30px; font-family: Arial; font-weight: bold;\"> LAB 1 : NumPy for Data Manipulation\n",
    "</span>"
   ]
  },
  {
   "cell_type": "markdown",
   "id": "2072773c",
   "metadata": {},
   "source": [
    "<span style=\"color:black;font-size: 25px; font-family: Arial; font-weight: bold;\"> Problem 1: Create a 1 D NumPy array from a list? </span>"
   ]
  },
  {
   "cell_type": "markdown",
   "id": "cded324f",
   "metadata": {},
   "source": [
    "<span style=\"color:black;font-size: 25px; font-family: Arial; font-weight: bold;\"> Problem 2: Create a 2 D NumPy array from a list ?</span>"
   ]
  },
  {
   "cell_type": "markdown",
   "id": "2d373b85",
   "metadata": {},
   "source": [
    "<span style=\"color:black;font-size: 25px; font-family: Arial; font-weight: bold;\"> Problem 3: Print the shape, dimensionality and Size of the above array. </span>"
   ]
  },
  {
   "cell_type": "markdown",
   "id": "748102d6",
   "metadata": {},
   "source": [
    "<span style=\"color:black;font-size: 25px; font-family: Arial; font-weight: bold;\"> Problem 4:  Create an array with 4 rows and 3 columns of zeros. </span>"
   ]
  },
  {
   "cell_type": "markdown",
   "id": "b27c0bfa",
   "metadata": {},
   "source": [
    "<span style=\"color:black;font-size: 25px; font-family: Arial; font-weight: bold;\"> Problem 5: Create an array of ones that has 3 rows and 4 columns. </span>"
   ]
  },
  {
   "cell_type": "markdown",
   "id": "b8ed5731",
   "metadata": {},
   "source": [
    "<span style=\"color:black;font-size: 25px; font-family: Arial; font-weight: bold;\"> Problem 6: Create an array containing integers 4 to 13 inclusive.</span>"
   ]
  },
  {
   "cell_type": "markdown",
   "id": "980a6597",
   "metadata": {},
   "source": [
    "<span style=\"color:black;font-size: 25px; font-family: Arial; font-weight: bold;\"> Problem 7: Create a 2 by 2 array containing '4' in each position.</span>"
   ]
  },
  {
   "cell_type": "markdown",
   "id": "7f37008a",
   "metadata": {},
   "source": [
    "<span style=\"color:black;font-size: 25px; font-family: Arial; font-weight: bold;\"> Problem 8: Create a 3 by 3 array with random floats in [0, 10].</span>"
   ]
  },
  {
   "cell_type": "markdown",
   "id": "fcf885d8",
   "metadata": {},
   "source": [
    "<span style=\"color:black;font-size: 25px; font-family: Arial; font-weight: bold;\"> Problem 9: Use this array for the following practice:<br></span>\n",
    "<span style=\"color:black;font-size: 25px; font-family: Arial; font-weight: bold;\">myArray = np.array([[11,12,13], [14,15,16], [17,18,19]])<br></span>\n",
    "<span style=\"color:black;font-size: 25px; font-family: Arial; font-weight: bold;\">a) Get a subarray of the first row and first 2 columns.<br></span>\n",
    "<span style=\"color:black;font-size: 25px; font-family: Arial; font-weight: bold;\">b) change all elements in 1st and second row to 0.</span>"
   ]
  },
  {
   "cell_type": "markdown",
   "id": "f2089e78",
   "metadata": {},
   "source": [
    "<span style=\"color:black;font-size: 25px; font-family: Arial; font-weight: bold;\"> Problem 10: Create an array that contains [0,1,2,3,4,5,6,7,8,9,10,11,12,13,14,15,16,17,18,19,20] and reverse the order.</span>"
   ]
  },
  {
   "cell_type": "markdown",
   "id": "f876a893",
   "metadata": {},
   "source": [
    "<span style=\"color:black;font-size: 25px; font-family: Arial; font-weight: bold;\"> Problem 11: Find the elements that are the same in both arrays.<br /></span>\n",
    "<span style=\"color:black;font-size: 25px; font-family: Arial; font-weight: bold;\"> myArray_1 = np.array([2,2,3,4]).<br /></span>\n",
    "<span style=\"color:black;font-size: 25px; font-family: Arial; font-weight: bold;\"> myArray_2 = np.array([3,2,3,4]).</span>"
   ]
  },
  {
   "cell_type": "markdown",
   "id": "2f39e6f7",
   "metadata": {},
   "source": [
    "<span style=\"color:black;font-size: 25px; font-family: Arial; font-weight: bold;\"> Problem 12: Find elements in myArray_1 that are smaller than or equal to its corresponding element in myArray_2.</span>"
   ]
  },
  {
   "cell_type": "markdown",
   "id": "5782e566",
   "metadata": {},
   "source": [
    "<span style=\"color:black;font-size: 25px; font-family: Arial; font-weight: bold;\"> Problem 13: Find the elements in myArray_1 that is bigger than 2.</span>"
   ]
  },
  {
   "cell_type": "markdown",
   "id": "e37417be",
   "metadata": {},
   "source": [
    "<span style=\"color:black;font-size: 25px; font-family: Arial; font-weight: bold;\"> Problem 14: Convert a 1-D array into a 2-D array with 3 rows.</span>"
   ]
  }
 ],
 "metadata": {
  "kernelspec": {
   "display_name": "Python 3",
   "language": "python",
   "name": "python3"
  },
  "language_info": {
   "codemirror_mode": {
    "name": "ipython",
    "version": 3
   },
   "file_extension": ".py",
   "mimetype": "text/x-python",
   "name": "python",
   "nbconvert_exporter": "python",
   "pygments_lexer": "ipython3",
   "version": "3.8.8"
  }
 },
 "nbformat": 4,
 "nbformat_minor": 5
}
